{
 "cells": [
  {
   "cell_type": "markdown",
   "id": "372c1347",
   "metadata": {},
   "source": [
    "# 01 — Menu Performance Analysis\\n\\nStarter notebook."
   ]
  },
  {
   "cell_type": "code",
   "execution_count": null,
   "id": "1ecd2f80-636a-415b-9c75-6a0bdc645883",
   "metadata": {},
   "outputs": [],
   "source": [
    "import pandas as pd\n",
    "from src.utils import audit, cap_outliers, normalize_str, clip_scale\n",
    "\n",
    "menu = pd.read_csv(r\"C:\\Users\\Geraldine Nyika\\Downloads\\menu_performance.csv\", parse_dates=[\"date_added\"])"
   ]
  }
 ],
 "metadata": {
  "kernelspec": {
   "display_name": "Python 3 (ipykernel)",
   "language": "python",
   "name": "python3"
  },
  "language_info": {
   "codemirror_mode": {
    "name": "ipython",
    "version": 3
   },
   "file_extension": ".py",
   "mimetype": "text/x-python",
   "name": "python",
   "nbconvert_exporter": "python",
   "pygments_lexer": "ipython3",
   "version": "3.12.3"
  }
 },
 "nbformat": 4,
 "nbformat_minor": 5
}
