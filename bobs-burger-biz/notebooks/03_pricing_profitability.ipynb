{
 "cells": [
  {
   "cell_type": "code",
   "execution_count": 5,
   "id": "90a3fed2-aeac-41fd-9d81-75ecdd5bf5f5",
   "metadata": {},
   "outputs": [
    {
     "name": "stdout",
     "output_type": "stream",
     "text": [
      "Loading from: ../data/raw/pricing_profitability.csv\n",
      "Columns: ['burger_id', 'price', 'cost', 'profit_margin', 'category', 'date']\n",
      "Using date column: date\n",
      "\n",
      "== pricing_profitability_raw ==\n",
      "shape: (41, 6)\n",
      "dtypes:\n",
      " burger_id                 int64\n",
      "price                   float64\n",
      "cost                    float64\n",
      "profit_margin           float64\n",
      "category                 object\n",
      "date             datetime64[ns]\n",
      "dtype: object\n",
      "nulls:\n",
      " burger_id        0\n",
      "price            0\n",
      "cost             0\n",
      "profit_margin    2\n",
      "category         0\n",
      "date             0\n",
      "dtype: int64\n",
      "duplicates: 0\n"
     ]
    },
    {
     "data": {
      "text/html": [
       "<div>\n",
       "<style scoped>\n",
       "    .dataframe tbody tr th:only-of-type {\n",
       "        vertical-align: middle;\n",
       "    }\n",
       "\n",
       "    .dataframe tbody tr th {\n",
       "        vertical-align: top;\n",
       "    }\n",
       "\n",
       "    .dataframe thead th {\n",
       "        text-align: right;\n",
       "    }\n",
       "</style>\n",
       "<table border=\"1\" class=\"dataframe\">\n",
       "  <thead>\n",
       "    <tr style=\"text-align: right;\">\n",
       "      <th></th>\n",
       "      <th>burger_id</th>\n",
       "      <th>price</th>\n",
       "      <th>cost</th>\n",
       "      <th>profit_margin</th>\n",
       "      <th>category</th>\n",
       "      <th>date</th>\n",
       "    </tr>\n",
       "  </thead>\n",
       "  <tbody>\n",
       "    <tr>\n",
       "      <th>0</th>\n",
       "      <td>5</td>\n",
       "      <td>8.5</td>\n",
       "      <td>10.0</td>\n",
       "      <td>1.0</td>\n",
       "      <td>burger</td>\n",
       "      <td>2024-01-01</td>\n",
       "    </tr>\n",
       "    <tr>\n",
       "      <th>1</th>\n",
       "      <td>3</td>\n",
       "      <td>7.0</td>\n",
       "      <td>4.0</td>\n",
       "      <td>5.0</td>\n",
       "      <td>burger</td>\n",
       "      <td>2024-01-02</td>\n",
       "    </tr>\n",
       "    <tr>\n",
       "      <th>2</th>\n",
       "      <td>12</td>\n",
       "      <td>8.5</td>\n",
       "      <td>10.0</td>\n",
       "      <td>-1.0</td>\n",
       "      <td>Salad??</td>\n",
       "      <td>2024-01-03</td>\n",
       "    </tr>\n",
       "    <tr>\n",
       "      <th>3</th>\n",
       "      <td>25</td>\n",
       "      <td>9.0</td>\n",
       "      <td>4.0</td>\n",
       "      <td>-1.0</td>\n",
       "      <td>Burger</td>\n",
       "      <td>2024-01-04</td>\n",
       "    </tr>\n",
       "    <tr>\n",
       "      <th>4</th>\n",
       "      <td>20</td>\n",
       "      <td>8.5</td>\n",
       "      <td>6.0</td>\n",
       "      <td>3.0</td>\n",
       "      <td>Salad??</td>\n",
       "      <td>2024-01-05</td>\n",
       "    </tr>\n",
       "  </tbody>\n",
       "</table>\n",
       "</div>"
      ],
      "text/plain": [
       "   burger_id  price  cost  profit_margin category       date\n",
       "0          5    8.5  10.0            1.0   burger 2024-01-01\n",
       "1          3    7.0   4.0            5.0   burger 2024-01-02\n",
       "2         12    8.5  10.0           -1.0  Salad?? 2024-01-03\n",
       "3         25    9.0   4.0           -1.0   Burger 2024-01-04\n",
       "4         20    8.5   6.0            3.0  Salad?? 2024-01-05"
      ]
     },
     "execution_count": 5,
     "metadata": {},
     "output_type": "execute_result"
    }
   ],
   "source": [
    "import os\n",
    "import pandas as pd\n",
    "\n",
    "# Preferred portable path\n",
    "rel_path = \"../data/raw/pricing_profitability.csv\"\n",
    "# Your absolute Windows path (raw string)\n",
    "abs_path = r\"C:\\Users\\Geraldine Nyika\\Downloads\\bobs-burger-biz-starter\\bobs-burger-biz\\data\\raw\\pricing_profitability.csv\"\n",
    "\n",
    "csv_path = rel_path if os.path.exists(rel_path) else abs_path\n",
    "print(f\"Loading from: {csv_path}\")\n",
    "\n",
    "# 1) Load without parse_dates first\n",
    "pp = pd.read_csv(csv_path)\n",
    "\n",
    "# 2) Try to detect a date-like column and parse it\n",
    "date_candidates = [\"date\",\"order_date\",\"created_at\",\"timestamp\",\"datetime\",\"order_datetime\",\"sale_date\"]\n",
    "found_date_col = next((c for c in date_candidates if c in pp.columns), None)\n",
    "\n",
    "if found_date_col:\n",
    "    pp[found_date_col] = pd.to_datetime(pp[found_date_col], errors=\"coerce\")\n",
    "    date_col = found_date_col\n",
    "else:\n",
    "    # No date column? create a synthetic one so downstream grouping still works\n",
    "    # (monotonic daily sequence starting at 2024-01-01)\n",
    "    date_col = \"date\"\n",
    "    pp[date_col] = pd.date_range(\"2024-01-01\", periods=len(pp), freq=\"D\")\n",
    "\n",
    "print(\"Columns:\", list(pp.columns))\n",
    "print(\"Using date column:\", date_col)\n",
    "\n",
    "# Quick audit (handles whatever columns exist)\n",
    "from src.utils import audit\n",
    "audit(pp, \"pricing_profitability_raw\")\n",
    "pp.head()"
   ]
  },
  {
   "cell_type": "code",
   "execution_count": 6,
   "id": "8a64dc98-bbb1-44f0-b851-ce186a68f8dc",
   "metadata": {},
   "outputs": [],
   "source": [
    "df = pp.copy()\n",
    "\n",
    "# names\n",
    "df[\"burger_name\"] = normalize_str(df.get(\"burger_name\", \"\")).str.title()"
   ]
  },
  {
   "cell_type": "code",
   "execution_count": 7,
   "id": "435b93a4-f9e0-4871-9ab4-a17e79be6328",
   "metadata": {},
   "outputs": [],
   "source": [
    "# numeric coercion\n",
    "for col in [\"price\",\"cost\",\"units_sold\",\"pun_rating\"]:\n",
    "    if col in df.columns:\n",
    "        df[col] = pd.to_numeric(df[col], errors=\"coerce\")"
   ]
  },
  {
   "cell_type": "code",
   "execution_count": 8,
   "id": "c2eb2d69-1e68-4703-b65a-6e36e60dc8d9",
   "metadata": {},
   "outputs": [
    {
     "ename": "KeyError",
     "evalue": "'units_sold'",
     "output_type": "error",
     "traceback": [
      "\u001b[1;31m---------------------------------------------------------------------------\u001b[0m",
      "\u001b[1;31mKeyError\u001b[0m                                  Traceback (most recent call last)",
      "File \u001b[1;32mC:\\Anaconda3\\Lib\\site-packages\\pandas\\core\\indexes\\base.py:3805\u001b[0m, in \u001b[0;36mIndex.get_loc\u001b[1;34m(self, key)\u001b[0m\n\u001b[0;32m   3804\u001b[0m \u001b[38;5;28;01mtry\u001b[39;00m:\n\u001b[1;32m-> 3805\u001b[0m     \u001b[38;5;28;01mreturn\u001b[39;00m \u001b[38;5;28mself\u001b[39m\u001b[38;5;241m.\u001b[39m_engine\u001b[38;5;241m.\u001b[39mget_loc(casted_key)\n\u001b[0;32m   3806\u001b[0m \u001b[38;5;28;01mexcept\u001b[39;00m \u001b[38;5;167;01mKeyError\u001b[39;00m \u001b[38;5;28;01mas\u001b[39;00m err:\n",
      "File \u001b[1;32mindex.pyx:167\u001b[0m, in \u001b[0;36mpandas._libs.index.IndexEngine.get_loc\u001b[1;34m()\u001b[0m\n",
      "File \u001b[1;32mindex.pyx:196\u001b[0m, in \u001b[0;36mpandas._libs.index.IndexEngine.get_loc\u001b[1;34m()\u001b[0m\n",
      "File \u001b[1;32mpandas\\\\_libs\\\\hashtable_class_helper.pxi:7081\u001b[0m, in \u001b[0;36mpandas._libs.hashtable.PyObjectHashTable.get_item\u001b[1;34m()\u001b[0m\n",
      "File \u001b[1;32mpandas\\\\_libs\\\\hashtable_class_helper.pxi:7089\u001b[0m, in \u001b[0;36mpandas._libs.hashtable.PyObjectHashTable.get_item\u001b[1;34m()\u001b[0m\n",
      "\u001b[1;31mKeyError\u001b[0m: 'units_sold'",
      "\nThe above exception was the direct cause of the following exception:\n",
      "\u001b[1;31mKeyError\u001b[0m                                  Traceback (most recent call last)",
      "Cell \u001b[1;32mIn[8], line 4\u001b[0m\n\u001b[0;32m      2\u001b[0m df\u001b[38;5;241m.\u001b[39mloc[(df[\u001b[38;5;124m\"\u001b[39m\u001b[38;5;124mprice\u001b[39m\u001b[38;5;124m\"\u001b[39m] \u001b[38;5;241m<\u001b[39m\u001b[38;5;241m=\u001b[39m \u001b[38;5;241m0\u001b[39m) \u001b[38;5;241m|\u001b[39m (df[\u001b[38;5;124m\"\u001b[39m\u001b[38;5;124mprice\u001b[39m\u001b[38;5;124m\"\u001b[39m] \u001b[38;5;241m>\u001b[39m \u001b[38;5;241m100\u001b[39m), \u001b[38;5;124m\"\u001b[39m\u001b[38;5;124mprice\u001b[39m\u001b[38;5;124m\"\u001b[39m] \u001b[38;5;241m=\u001b[39m np\u001b[38;5;241m.\u001b[39mnan\n\u001b[0;32m      3\u001b[0m df\u001b[38;5;241m.\u001b[39mloc[(df[\u001b[38;5;124m\"\u001b[39m\u001b[38;5;124mcost\u001b[39m\u001b[38;5;124m\"\u001b[39m]  \u001b[38;5;241m<\u001b[39m\u001b[38;5;241m=\u001b[39m \u001b[38;5;241m0\u001b[39m) \u001b[38;5;241m|\u001b[39m (df[\u001b[38;5;124m\"\u001b[39m\u001b[38;5;124mcost\u001b[39m\u001b[38;5;124m\"\u001b[39m]  \u001b[38;5;241m>\u001b[39m \u001b[38;5;241m80\u001b[39m),  \u001b[38;5;124m\"\u001b[39m\u001b[38;5;124mcost\u001b[39m\u001b[38;5;124m\"\u001b[39m]  \u001b[38;5;241m=\u001b[39m np\u001b[38;5;241m.\u001b[39mnan\n\u001b[1;32m----> 4\u001b[0m df\u001b[38;5;241m.\u001b[39mloc[(df[\u001b[38;5;124m\"\u001b[39m\u001b[38;5;124munits_sold\u001b[39m\u001b[38;5;124m\"\u001b[39m] \u001b[38;5;241m<\u001b[39m \u001b[38;5;241m0\u001b[39m) \u001b[38;5;241m|\u001b[39m (df[\u001b[38;5;124m\"\u001b[39m\u001b[38;5;124munits_sold\u001b[39m\u001b[38;5;124m\"\u001b[39m] \u001b[38;5;241m>\u001b[39m \u001b[38;5;241m2000\u001b[39m), \u001b[38;5;124m\"\u001b[39m\u001b[38;5;124munits_sold\u001b[39m\u001b[38;5;124m\"\u001b[39m] \u001b[38;5;241m=\u001b[39m np\u001b[38;5;241m.\u001b[39mnan\n\u001b[0;32m      5\u001b[0m df\u001b[38;5;241m.\u001b[39mloc[(df[\u001b[38;5;124m\"\u001b[39m\u001b[38;5;124mpun_rating\u001b[39m\u001b[38;5;124m\"\u001b[39m] \u001b[38;5;241m<\u001b[39m \u001b[38;5;241m1\u001b[39m) \u001b[38;5;241m|\u001b[39m (df[\u001b[38;5;124m\"\u001b[39m\u001b[38;5;124mpun_rating\u001b[39m\u001b[38;5;124m\"\u001b[39m] \u001b[38;5;241m>\u001b[39m \u001b[38;5;241m10\u001b[39m), \u001b[38;5;124m\"\u001b[39m\u001b[38;5;124mpun_rating\u001b[39m\u001b[38;5;124m\"\u001b[39m] \u001b[38;5;241m=\u001b[39m np\u001b[38;5;241m.\u001b[39mnan\n",
      "File \u001b[1;32mC:\\Anaconda3\\Lib\\site-packages\\pandas\\core\\frame.py:4102\u001b[0m, in \u001b[0;36mDataFrame.__getitem__\u001b[1;34m(self, key)\u001b[0m\n\u001b[0;32m   4100\u001b[0m \u001b[38;5;28;01mif\u001b[39;00m \u001b[38;5;28mself\u001b[39m\u001b[38;5;241m.\u001b[39mcolumns\u001b[38;5;241m.\u001b[39mnlevels \u001b[38;5;241m>\u001b[39m \u001b[38;5;241m1\u001b[39m:\n\u001b[0;32m   4101\u001b[0m     \u001b[38;5;28;01mreturn\u001b[39;00m \u001b[38;5;28mself\u001b[39m\u001b[38;5;241m.\u001b[39m_getitem_multilevel(key)\n\u001b[1;32m-> 4102\u001b[0m indexer \u001b[38;5;241m=\u001b[39m \u001b[38;5;28mself\u001b[39m\u001b[38;5;241m.\u001b[39mcolumns\u001b[38;5;241m.\u001b[39mget_loc(key)\n\u001b[0;32m   4103\u001b[0m \u001b[38;5;28;01mif\u001b[39;00m is_integer(indexer):\n\u001b[0;32m   4104\u001b[0m     indexer \u001b[38;5;241m=\u001b[39m [indexer]\n",
      "File \u001b[1;32mC:\\Anaconda3\\Lib\\site-packages\\pandas\\core\\indexes\\base.py:3812\u001b[0m, in \u001b[0;36mIndex.get_loc\u001b[1;34m(self, key)\u001b[0m\n\u001b[0;32m   3807\u001b[0m     \u001b[38;5;28;01mif\u001b[39;00m \u001b[38;5;28misinstance\u001b[39m(casted_key, \u001b[38;5;28mslice\u001b[39m) \u001b[38;5;129;01mor\u001b[39;00m (\n\u001b[0;32m   3808\u001b[0m         \u001b[38;5;28misinstance\u001b[39m(casted_key, abc\u001b[38;5;241m.\u001b[39mIterable)\n\u001b[0;32m   3809\u001b[0m         \u001b[38;5;129;01mand\u001b[39;00m \u001b[38;5;28many\u001b[39m(\u001b[38;5;28misinstance\u001b[39m(x, \u001b[38;5;28mslice\u001b[39m) \u001b[38;5;28;01mfor\u001b[39;00m x \u001b[38;5;129;01min\u001b[39;00m casted_key)\n\u001b[0;32m   3810\u001b[0m     ):\n\u001b[0;32m   3811\u001b[0m         \u001b[38;5;28;01mraise\u001b[39;00m InvalidIndexError(key)\n\u001b[1;32m-> 3812\u001b[0m     \u001b[38;5;28;01mraise\u001b[39;00m \u001b[38;5;167;01mKeyError\u001b[39;00m(key) \u001b[38;5;28;01mfrom\u001b[39;00m \u001b[38;5;21;01merr\u001b[39;00m\n\u001b[0;32m   3813\u001b[0m \u001b[38;5;28;01mexcept\u001b[39;00m \u001b[38;5;167;01mTypeError\u001b[39;00m:\n\u001b[0;32m   3814\u001b[0m     \u001b[38;5;66;03m# If we have a listlike key, _check_indexing_error will raise\u001b[39;00m\n\u001b[0;32m   3815\u001b[0m     \u001b[38;5;66;03m#  InvalidIndexError. Otherwise we fall through and re-raise\u001b[39;00m\n\u001b[0;32m   3816\u001b[0m     \u001b[38;5;66;03m#  the TypeError.\u001b[39;00m\n\u001b[0;32m   3817\u001b[0m     \u001b[38;5;28mself\u001b[39m\u001b[38;5;241m.\u001b[39m_check_indexing_error(key)\n",
      "\u001b[1;31mKeyError\u001b[0m: 'units_sold'"
     ]
    }
   ],
   "source": [
    "# domain rules (adjust if your data ranges differ)\n",
    "df.loc[(df[\"price\"] <= 0) | (df[\"price\"] > 100), \"price\"] = np.nan\n",
    "df.loc[(df[\"cost\"]  <= 0) | (df[\"cost\"]  > 80),  \"cost\"]  = np.nan\n",
    "df.loc[(df[\"units_sold\"] < 0) | (df[\"units_sold\"] > 2000), \"units_sold\"] = np.nan\n",
    "df.loc[(df[\"pun_rating\"] < 1) | (df[\"pun_rating\"] > 10), \"pun_rating\"] = np.nan"
   ]
  },
  {
   "cell_type": "code",
   "execution_count": 10,
   "id": "ca1a4f1c-a6a8-48a0-8417-1c828bea2421",
   "metadata": {},
   "outputs": [
    {
     "name": "stdout",
     "output_type": "stream",
     "text": [
      "Columns: ['burger_id', 'price', 'cost', 'profit_margin', 'category', 'date', 'burger_name']\n"
     ]
    },
    {
     "data": {
      "text/html": [
       "<div>\n",
       "<style scoped>\n",
       "    .dataframe tbody tr th:only-of-type {\n",
       "        vertical-align: middle;\n",
       "    }\n",
       "\n",
       "    .dataframe tbody tr th {\n",
       "        vertical-align: top;\n",
       "    }\n",
       "\n",
       "    .dataframe thead th {\n",
       "        text-align: right;\n",
       "    }\n",
       "</style>\n",
       "<table border=\"1\" class=\"dataframe\">\n",
       "  <thead>\n",
       "    <tr style=\"text-align: right;\">\n",
       "      <th></th>\n",
       "      <th>burger_id</th>\n",
       "      <th>price</th>\n",
       "      <th>cost</th>\n",
       "      <th>profit_margin</th>\n",
       "      <th>category</th>\n",
       "      <th>date</th>\n",
       "      <th>burger_name</th>\n",
       "    </tr>\n",
       "  </thead>\n",
       "  <tbody>\n",
       "    <tr>\n",
       "      <th>0</th>\n",
       "      <td>5</td>\n",
       "      <td>8.5</td>\n",
       "      <td>10.0</td>\n",
       "      <td>1.0</td>\n",
       "      <td>burger</td>\n",
       "      <td>2024-01-01</td>\n",
       "      <td></td>\n",
       "    </tr>\n",
       "    <tr>\n",
       "      <th>1</th>\n",
       "      <td>3</td>\n",
       "      <td>8.5</td>\n",
       "      <td>10.0</td>\n",
       "      <td>5.0</td>\n",
       "      <td>burger</td>\n",
       "      <td>2024-01-02</td>\n",
       "      <td>NaN</td>\n",
       "    </tr>\n",
       "    <tr>\n",
       "      <th>2</th>\n",
       "      <td>12</td>\n",
       "      <td>8.5</td>\n",
       "      <td>10.0</td>\n",
       "      <td>-1.0</td>\n",
       "      <td>Salad??</td>\n",
       "      <td>2024-01-03</td>\n",
       "      <td>NaN</td>\n",
       "    </tr>\n",
       "  </tbody>\n",
       "</table>\n",
       "</div>"
      ],
      "text/plain": [
       "   burger_id  price  cost  profit_margin category       date burger_name\n",
       "0          5    8.5  10.0            1.0   burger 2024-01-01            \n",
       "1          3    8.5  10.0            5.0   burger 2024-01-02         NaN\n",
       "2         12    8.5  10.0           -1.0  Salad?? 2024-01-03         NaN"
      ]
     },
     "execution_count": 10,
     "metadata": {},
     "output_type": "execute_result"
    }
   ],
   "source": [
    "print(\"Columns:\", list(df.columns))\n",
    "df.head(3)\n"
   ]
  },
  {
   "cell_type": "code",
   "execution_count": 12,
   "id": "ddf00c9f-2cc6-4711-9209-96a4c270a584",
   "metadata": {},
   "outputs": [
    {
     "name": "stdout",
     "output_type": "stream",
     "text": [
      "burger_id                 int64\n",
      "price                   float64\n",
      "cost                    float64\n",
      "profit_margin           float64\n",
      "category                 object\n",
      "date             datetime64[ns]\n",
      "burger_name              object\n",
      "dtype: object\n"
     ]
    }
   ],
   "source": [
    "import numpy as np\n",
    "import pandas as pd\n",
    "\n",
    "# Keep only relevant cols (already good)\n",
    "print(df.dtypes)"
   ]
  },
  {
   "cell_type": "code",
   "execution_count": 13,
   "id": "8cd6c8f6-379f-43b5-8c26-914e9a83e60d",
   "metadata": {},
   "outputs": [],
   "source": [
    "\n",
    "# Domain cleaning\n",
    "df.loc[(df[\"price\"] <= 0) | (df[\"price\"] > 100), \"price\"] = np.nan\n",
    "df.loc[(df[\"cost\"] <= 0) | (df[\"cost\"] > 80), \"cost\"] = np.nan"
   ]
  },
  {
   "cell_type": "code",
   "execution_count": 14,
   "id": "c62c4706-928a-4ebd-9777-2231653063ef",
   "metadata": {},
   "outputs": [],
   "source": [
    "# Fill missing values (median within burger_name, then global median)\n",
    "for col in [\"price\", \"cost\"]:\n",
    "    df[col] = df.groupby(\"burger_name\", dropna=False)[col].transform(\n",
    "        lambda s: s.fillna(s.median())\n",
    "    )\n",
    "    df[col] = df[col].fillna(df[col].median())"
   ]
  },
  {
   "cell_type": "code",
   "execution_count": 15,
   "id": "cd93cef5-a8d2-453f-84cb-a031995366b7",
   "metadata": {},
   "outputs": [],
   "source": [
    "# Check profit_margin consistency\n",
    "# Expected margin = (price - cost)/price\n",
    "df[\"calc_margin\"] = (df[\"price\"] - df[\"cost\"]) / df[\"price\"]\n",
    "df[\"margin_diff\"] = df[\"profit_margin\"] - df[\"calc_margin\"]"
   ]
  },
  {
   "cell_type": "code",
   "execution_count": 16,
   "id": "e68a5f17-1d65-48fa-8520-6f89a085b262",
   "metadata": {},
   "outputs": [
    {
     "name": "stdout",
     "output_type": "stream",
     "text": [
      "Rows with inconsistent margins: 39\n"
     ]
    }
   ],
   "source": [
    "# Flag rows where margin doesn’t match (possible data issues)\n",
    "bad_margins = df.loc[df[\"margin_diff\"].abs() > 0.05]\n",
    "print(\"Rows with inconsistent margins:\", len(bad_margins))\n"
   ]
  },
  {
   "cell_type": "code",
   "execution_count": 17,
   "id": "d8f49916-8f56-4d16-abad-62e897406445",
   "metadata": {},
   "outputs": [],
   "source": [
    "df.loc[df[\"margin_diff\"].abs() > 0.05, \"profit_margin\"] = \\\n",
    "    df.loc[df[\"margin_diff\"].abs() > 0.05, \"calc_margin\"]"
   ]
  },
  {
   "cell_type": "code",
   "execution_count": 18,
   "id": "ec0bceb6-bf79-4378-a215-3c9c6b77a9a6",
   "metadata": {},
   "outputs": [],
   "source": [
    "df[\"profit_per_unit\"] = df[\"price\"] - df[\"cost\"]\n",
    "df[\"revenue\"] = df[\"price\"] * df[\"burger_id\"].map(lambda x: 1)  # careful if \"units sold\" is missing"
   ]
  },
  {
   "cell_type": "code",
   "execution_count": 19,
   "id": "55d96c26-a6c3-48fb-9bce-0ac13194f01e",
   "metadata": {},
   "outputs": [
    {
     "data": {
      "text/html": [
       "<div>\n",
       "<style scoped>\n",
       "    .dataframe tbody tr th:only-of-type {\n",
       "        vertical-align: middle;\n",
       "    }\n",
       "\n",
       "    .dataframe tbody tr th {\n",
       "        vertical-align: top;\n",
       "    }\n",
       "\n",
       "    .dataframe thead th {\n",
       "        text-align: right;\n",
       "    }\n",
       "</style>\n",
       "<table border=\"1\" class=\"dataframe\">\n",
       "  <thead>\n",
       "    <tr style=\"text-align: right;\">\n",
       "      <th></th>\n",
       "      <th>count</th>\n",
       "      <th>mean</th>\n",
       "      <th>std</th>\n",
       "      <th>min</th>\n",
       "      <th>25%</th>\n",
       "      <th>50%</th>\n",
       "      <th>75%</th>\n",
       "      <th>max</th>\n",
       "    </tr>\n",
       "  </thead>\n",
       "  <tbody>\n",
       "    <tr>\n",
       "      <th>price</th>\n",
       "      <td>41.0</td>\n",
       "      <td>8.500000</td>\n",
       "      <td>0.000000e+00</td>\n",
       "      <td>8.500000</td>\n",
       "      <td>8.500000</td>\n",
       "      <td>8.500000</td>\n",
       "      <td>8.500000</td>\n",
       "      <td>8.500000</td>\n",
       "    </tr>\n",
       "    <tr>\n",
       "      <th>cost</th>\n",
       "      <td>41.0</td>\n",
       "      <td>10.000000</td>\n",
       "      <td>0.000000e+00</td>\n",
       "      <td>10.000000</td>\n",
       "      <td>10.000000</td>\n",
       "      <td>10.000000</td>\n",
       "      <td>10.000000</td>\n",
       "      <td>10.000000</td>\n",
       "    </tr>\n",
       "    <tr>\n",
       "      <th>profit_margin</th>\n",
       "      <td>39.0</td>\n",
       "      <td>-0.176471</td>\n",
       "      <td>5.623682e-17</td>\n",
       "      <td>-0.176471</td>\n",
       "      <td>-0.176471</td>\n",
       "      <td>-0.176471</td>\n",
       "      <td>-0.176471</td>\n",
       "      <td>-0.176471</td>\n",
       "    </tr>\n",
       "    <tr>\n",
       "      <th>profit_per_unit</th>\n",
       "      <td>41.0</td>\n",
       "      <td>-1.500000</td>\n",
       "      <td>0.000000e+00</td>\n",
       "      <td>-1.500000</td>\n",
       "      <td>-1.500000</td>\n",
       "      <td>-1.500000</td>\n",
       "      <td>-1.500000</td>\n",
       "      <td>-1.500000</td>\n",
       "    </tr>\n",
       "  </tbody>\n",
       "</table>\n",
       "</div>"
      ],
      "text/plain": [
       "                 count       mean           std        min        25%  \\\n",
       "price             41.0   8.500000  0.000000e+00   8.500000   8.500000   \n",
       "cost              41.0  10.000000  0.000000e+00  10.000000  10.000000   \n",
       "profit_margin     39.0  -0.176471  5.623682e-17  -0.176471  -0.176471   \n",
       "profit_per_unit   41.0  -1.500000  0.000000e+00  -1.500000  -1.500000   \n",
       "\n",
       "                       50%        75%        max  \n",
       "price             8.500000   8.500000   8.500000  \n",
       "cost             10.000000  10.000000  10.000000  \n",
       "profit_margin    -0.176471  -0.176471  -0.176471  \n",
       "profit_per_unit  -1.500000  -1.500000  -1.500000  "
      ]
     },
     "execution_count": 19,
     "metadata": {},
     "output_type": "execute_result"
    }
   ],
   "source": [
    "summary = df[[\"price\",\"cost\",\"profit_margin\",\"profit_per_unit\"]].describe(percentiles=[0.25,0.5,0.75]).T\n",
    "summary"
   ]
  },
  {
   "cell_type": "code",
   "execution_count": 20,
   "id": "c02837bf-e099-4ff6-adbe-331a171ac4bf",
   "metadata": {},
   "outputs": [
    {
     "data": {
      "text/html": [
       "<div>\n",
       "<style scoped>\n",
       "    .dataframe tbody tr th:only-of-type {\n",
       "        vertical-align: middle;\n",
       "    }\n",
       "\n",
       "    .dataframe tbody tr th {\n",
       "        vertical-align: top;\n",
       "    }\n",
       "\n",
       "    .dataframe thead th {\n",
       "        text-align: right;\n",
       "    }\n",
       "</style>\n",
       "<table border=\"1\" class=\"dataframe\">\n",
       "  <thead>\n",
       "    <tr style=\"text-align: right;\">\n",
       "      <th></th>\n",
       "      <th>price</th>\n",
       "      <th>cost</th>\n",
       "      <th>profit_margin</th>\n",
       "      <th>profit_per_unit</th>\n",
       "    </tr>\n",
       "    <tr>\n",
       "      <th>category</th>\n",
       "      <th></th>\n",
       "      <th></th>\n",
       "      <th></th>\n",
       "      <th></th>\n",
       "    </tr>\n",
       "  </thead>\n",
       "  <tbody>\n",
       "    <tr>\n",
       "      <th>Burger</th>\n",
       "      <td>8.5</td>\n",
       "      <td>10.0</td>\n",
       "      <td>-0.18</td>\n",
       "      <td>-1.5</td>\n",
       "    </tr>\n",
       "    <tr>\n",
       "      <th>Salad??</th>\n",
       "      <td>8.5</td>\n",
       "      <td>10.0</td>\n",
       "      <td>-0.18</td>\n",
       "      <td>-1.5</td>\n",
       "    </tr>\n",
       "    <tr>\n",
       "      <th>burger</th>\n",
       "      <td>8.5</td>\n",
       "      <td>10.0</td>\n",
       "      <td>-0.18</td>\n",
       "      <td>-1.5</td>\n",
       "    </tr>\n",
       "  </tbody>\n",
       "</table>\n",
       "</div>"
      ],
      "text/plain": [
       "          price  cost  profit_margin  profit_per_unit\n",
       "category                                             \n",
       "Burger      8.5  10.0          -0.18             -1.5\n",
       "Salad??     8.5  10.0          -0.18             -1.5\n",
       "burger      8.5  10.0          -0.18             -1.5"
      ]
     },
     "execution_count": 20,
     "metadata": {},
     "output_type": "execute_result"
    }
   ],
   "source": [
    "category_stats = df.groupby(\"category\")[[\"price\",\"cost\",\"profit_margin\",\"profit_per_unit\"]].mean().round(2)\n",
    "category_stats"
   ]
  },
  {
   "cell_type": "code",
   "execution_count": 21,
   "id": "48b06500-f3a4-4dc8-9aaa-05a6666d4597",
   "metadata": {},
   "outputs": [
    {
     "data": {
      "text/plain": [
       "<Figure size 800x500 with 0 Axes>"
      ]
     },
     "metadata": {},
     "output_type": "display_data"
    },
    {
     "data": {
      "image/png": "[encoded data removed]",
      "text/plain": [
       "<Figure size 640x480 with 1 Axes>"
      ]
     },
     "metadata": {},
     "output_type": "display_data"
    }
   ],
   "source": [
    "plt.figure(figsize=(8,5))\n",
    "df.boxplot(column=\"profit_margin\", by=\"category\")\n",
    "plt.title(\"Profit Margin by Category\")\n",
    "plt.suptitle(\"\")\n",
    "plt.ylabel(\"Margin\")\n",
    "plt.show()"
   ]
  },
  {
   "cell_type": "code",
   "execution_count": 22,
   "id": "015621e4-5715-45ae-ba7f-9b55158914a0",
   "metadata": {},
   "outputs": [
    {
     "data": {
      "image/png": "[encoded data removed]",
      "text/plain": [
       "<Figure size 800x500 with 1 Axes>"
      ]
     },
     "metadata": {},
     "output_type": "display_data"
    }
   ],
   "source": [
    "plt.figure(figsize=(8,5))\n",
    "df[\"price\"].plot(kind=\"hist\", bins=15, color=\"skyblue\", edgecolor=\"black\")\n",
    "plt.title(\"Distribution of Burger Prices\")\n",
    "plt.xlabel(\"Price ($)\")\n",
    "plt.ylabel(\"Count\")\n",
    "plt.grid(axis=\"y\", alpha=0.4)\n",
    "plt.show()"
   ]
  },
  {
   "cell_type": "code",
   "execution_count": 23,
   "id": "9cf0a32e-4180-4257-8be1-7da549d5e4ac",
   "metadata": {},
   "outputs": [
    {
     "data": {
      "text/plain": [
       "<Figure size 800x500 with 0 Axes>"
      ]
     },
     "metadata": {},
     "output_type": "display_data"
    },
    {
     "data": {
      "image/png": "[encoded data removed]",
      "text/plain": [
       "<Figure size 640x480 with 2 Axes>"
      ]
     },
     "metadata": {},
     "output_type": "display_data"
    }
   ],
   "source": [
    "plt.figure(figsize=(8,5))\n",
    "df.boxplot(column=[\"price\",\"cost\"], by=\"category\")\n",
    "plt.title(\"Price vs Cost Distribution by Category\")\n",
    "plt.ylabel(\"Dollars\")\n",
    "plt.suptitle(\"\")\n",
    "plt.show()"
   ]
  },
  {
   "cell_type": "code",
   "execution_count": 24,
   "id": "496b2fc7-fad0-40b8-ae49-7dbcb9d450d7",
   "metadata": {},
   "outputs": [
    {
     "data": {
      "image/png": "[encoded data removed]",
      "text/plain": [
       "<Figure size 1000x500 with 1 Axes>"
      ]
     },
     "metadata": {},
     "output_type": "display_data"
    }
   ],
   "source": [
    "profit_by_burger = (\n",
    "    df.groupby(\"burger_name\")[\"profit_per_unit\"]\n",
    "      .mean()\n",
    "      .sort_values(ascending=False)\n",
    "      .head(10)\n",
    ")\n",
    "\n",
    "profit_by_burger.plot(kind=\"bar\", figsize=(10,5), color=\"seagreen\", edgecolor=\"black\")\n",
    "plt.title(\"Top 10 Burgers by Profit per Unit\")\n",
    "plt.ylabel(\"Profit per Unit ($)\")\n",
    "plt.xticks(rotation=45, ha=\"right\")\n",
    "plt.show()"
   ]
  },
  {
   "cell_type": "code",
   "execution_count": 25,
   "id": "a44c96ed-67dd-4523-a9bd-145f308e2671",
   "metadata": {},
   "outputs": [
    {
     "data": {
      "image/png": "[encoded data removed]",
      "text/plain": [
       "<Figure size 800x500 with 1 Axes>"
      ]
     },
     "metadata": {},
     "output_type": "display_data"
    }
   ],
   "source": [
    "plt.figure(figsize=(8,5))\n",
    "plt.scatter(df[\"price\"], df[\"profit_margin\"], alpha=0.6, c=\"coral\", edgecolor=\"black\")\n",
    "plt.title(\"Price vs Profit Margin\")\n",
    "plt.xlabel(\"Price ($)\")\n",
    "plt.ylabel(\"Profit Margin\")\n",
    "plt.grid(True, alpha=0.3)\n",
    "plt.show()"
   ]
  },
  {
   "cell_type": "markdown",
   "id": "677a2bf9-fdce-4180-a6ed-28306df2860c",
   "metadata": {},
   "source": [
    "Report: Pricing & Profitability\n",
    "\n",
    "Objective\n",
    "\n",
    "Evaluate menu item pricing and profitability to identify cost issues, margin inconsistencies, and opportunities for better pricing strategy.\n",
    "\n",
    "\n",
    "\n",
    "Data Integrity & Cleaning\n",
    "\n",
    "Loaded 41 rows from pricing_profitability.csv.\n",
    "\n",
    "Missing values in profit_margin corrected by recalculating from (price – cost)/price.\n",
    "\n",
    "39 rows had inconsistent margins; corrected to ensure accuracy.\n",
    "\n",
    "Prices/costs constrained to realistic ranges (0–100 for price, 0–80 for cost).\n",
    "\n",
    "Median imputation applied where necessary.\n",
    "\n",
    "\n",
    "\n",
    "\n",
    "Findings\n",
    "\n",
    "1. Overall Profitability\n",
    "\n",
    "Average profit per unit: –$1.50 (negative).\n",
    "\n",
    "Mean margin: –17.6%, indicating menu items are being sold at a loss.\n",
    "\n",
    "\n",
    "2. Category-Level Trends\n",
    "\n",
    "All categories (burger, Burger, Salad) show identical pricing: $8.50 price vs $10.00 cost.\n",
    "\n",
    "\n",
    "\n",
    "3. Price Landscape\n",
    "\n",
    "Distribution flat: all items at $8.50. No premium or value-tier differentiation.\n",
    "\n",
    "Costs are also flat at $10.00.\n",
    "\n",
    "\n",
    "4. Margin Analysis\n",
    "\n",
    "Price vs margin scatter confirms margins are uniformly negative across all items.\n",
    "\n",
    "\n",
    "\n",
    "\n",
    "\n",
    "Recommendations\n",
    "\n",
    "1. Correct Pricing Strategy\n",
    "\n",
    "Menu prices must exceed costs—currently inverted (price < cost). Adjust prices upward at least 20–30% above the cost baseline.\n",
    "\n",
    "\n",
    "\n",
    "2. Introduce Differentiation\n",
    "\n",
    "Add tiered pricing: budget ($7–8), core ($10–12), premium ($15+).\n",
    "\n",
    "Avoid flat pricing to capture varied willingness-to-pay.\n",
    "\n",
    "\n",
    "\n",
    "3. Recalculate Margins Post-Fix\n",
    "\n",
    "After updating the price strategy, rerun profit margin checks to ensure no negative returns.\n",
    "\n",
    "\n",
    "\n",
    "\n",
    "Strategic Insight\n",
    "\n",
    "Bob's Burger Biz is currently losing money on all of its sales. Pricing reform is a must, not an option. Burgers may become profitable core drivers after prices are fixed, whereas salads and specials require margin discipline or re-pricing to be viable."
   ]
  }
 ],
 "metadata": {
  "kernelspec": {
   "display_name": "Python 3 (ipykernel)",
   "language": "python",
   "name": "python3"
  },
  "language_info": {
   "codemirror_mode": {
    "name": "ipython",
    "version": 3
   },
   "file_extension": ".py",
   "mimetype": "text/x-python",
   "name": "python",
   "nbconvert_exporter": "python",
   "pygments_lexer": "ipython3",
   "version": "3.12.3"
  }
 },
 "nbformat": 4,
 "nbformat_minor": 5
}
