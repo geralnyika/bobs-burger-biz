{
  "cells": [
    {
      "cell_type": "markdown",
      "metadata": {},
      "source": "# 03 \u2014 Pricing & Profitability Quick Test\\n\\nStarter notebook."
    }
  ],
  "metadata": {
    "kernelspec": {
      "display_name": "Python 3",
      "language": "python",
      "name": "python3"
    }
  },
  "nbformat": 4,
  "nbformat_minor": 5
}