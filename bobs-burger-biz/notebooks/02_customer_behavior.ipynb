{
  "cells": [
    {
      "cell_type": "markdown",
      "metadata": {},
      "source": "# 02 \u2014 Customer Behavior Snapshot\\n\\nStarter notebook."
    }
  ],
  "metadata": {
    "kernelspec": {
      "display_name": "Python 3",
      "language": "python",
      "name": "python3"
    }
  },
  "nbformat": 4,
  "nbformat_minor": 5
}